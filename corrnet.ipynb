{
 "cells": [
  {
   "cell_type": "markdown",
   "metadata": {},
   "source": [
    "# Correlational Neural Networks with Tensorflow\n",
    "\n",
    "![alt text](https://deeplearnschool.files.wordpress.com/2017/05/cornet.png)"
   ]
  },
  {
   "cell_type": "markdown",
   "metadata": {},
   "source": [
    "# Import Modules\n",
    "\n",
    "Import all the necessary modules for training and testing the CorrNet"
   ]
  },
  {
   "cell_type": "code",
   "execution_count": 56,
   "metadata": {},
   "outputs": [
    {
     "name": "stdout",
     "output_type": "stream",
     "text": [
      "Populating the interactive namespace from numpy and matplotlib\n"
     ]
    }
   ],
   "source": [
    "%pylab inline\n",
    "\n",
    "import matplotlib.pyplot as plt\n",
    "import numpy as np\n",
    "import tensorflow as tf\n",
    "import tensorflow.contrib.keras as keras\n",
    "\n",
    "# Our modules\n",
    "import corrnet.data.mnist_views\n",
    "import corrnet.layers\n",
    "import corrnet.loss"
   ]
  },
  {
   "cell_type": "markdown",
   "metadata": {},
   "source": [
    "# Fetch and split MNIST data\n",
    "\n",
    "left_mnist contains the left halves of images and right_mnist contains the right halves\n",
    "Usage:\n",
    "- left_mnist.train.images: Left images for training\n",
    "- left_mnist.validation.images: Left images for validation\n",
    "- left_mnist.test.images: Left images for testing\n",
    "\n",
    "Example of a MNIST image left and right halves:\n",
    "![alt text](https://deeplearnschool.files.wordpress.com/2017/05/d2.png?w=340&h=245)"
   ]
  },
  {
   "cell_type": "code",
   "execution_count": 57,
   "metadata": {},
   "outputs": [],
   "source": [
    "left_mnist = corrnet.data.mnist_views.left_view_dataset()\n",
    "right_mnist = corrnet.data.mnist_views.right_view_dataset()"
   ]
  },
  {
   "cell_type": "markdown",
   "metadata": {},
   "source": [
    "# CorrNet and training configuration"
   ]
  },
  {
   "cell_type": "code",
   "execution_count": 58,
   "metadata": {
    "collapsed": true
   },
   "outputs": [],
   "source": [
    "n_inputs = 28*14\n",
    "hdim1, hdim2, hdim = 500, 300, 50\n",
    "learning_rate = 0.001\n",
    "n_epochs = 40\n",
    "batch_size = 100\n",
    "lamda = 0.02\n",
    "\n",
    "tf.reset_default_graph()"
   ]
  },
  {
   "cell_type": "markdown",
   "metadata": {
    "collapsed": true
   },
   "source": [
    "# Build CorrNet with tensorflow\n",
    "\n",
    "We will build a NN with 3 encoding layers (for both modalities), 1 common layer and 1 decoding layer (for both modalities).\n",
    "\n",
    "- The encoding layers will build a \"pyramid\" with decreasing hidden units (l1: 500 -> l2: 300 -> l3: 50)\n",
    "- The common layer adds the output of l3 for left and right input"
   ]
  },
  {
   "cell_type": "code",
   "execution_count": 59,
   "metadata": {
    "collapsed": true
   },
   "outputs": [],
   "source": [
    "X1 = tf.placeholder(tf.float32, shape=(None,n_inputs), name='X1')\n",
    "X2 = tf.placeholder(tf.float32, shape=(None, n_inputs), name='X2')\n",
    "keep_prob = tf.placeholder(tf.float32)\n",
    "\n",
    "with tf.name_scope('dnn'):\n",
    "    h1_X1_l = corrnet.layers.dense_layer(X1, hdim1, name='h1_X1', activation=corrnet.activations.leaky_relu)\n",
    "    h1_o = h1_X1_l.apply(X1)\n",
    "    h1_X2_l = corrnet.layers.dense_layer(X2, hdim1, name='h1_X2', activation=corrnet.activations.leaky_relu)\n",
    "    h2_o = h1_X2_l.apply(X2)\n",
    "\n",
    "    h2_X1_l = corrnet.layers.dense_layer(h1_o, hdim2, name='h2_X1', activation=corrnet.activations.leaky_relu)\n",
    "    h1_o = h2_X1_l.apply(h1_o)\n",
    "    h2_X2_l = corrnet.layers.dense_layer(h2_o, hdim2, name='h2_X2', activation=corrnet.activations.leaky_relu)\n",
    "    h2_o = h2_X2_l.apply(h2_o)\n",
    "\n",
    "    h1_l = corrnet.layers.dense_layer(h1_o, hdim, name='h1', activation=corrnet.activations.leaky_relu)\n",
    "    h1_o = h1_l(h1_o)\n",
    "    h2_l = corrnet.layers.dense_layer(h2_o, hdim, name='h2', activation=corrnet.activations.leaky_relu)\n",
    "    h2_o = h2_l(h2_o)\n",
    "    h_l = keras.layers.Add()\n",
    "    h_o = h_l([h1_o, h2_o])\n",
    "    \n",
    "    r1_X1_l = corrnet.layers.dense_layer(h_o, n_inputs, name='r1_X1', activation=corrnet.activations.leaky_relu)\n",
    "    reconstruct_X1 = r1_X1_l.apply(h_o)\n",
    "\n",
    "    r1_X2_l = corrnet.layers.dense_layer(h_o, n_inputs, name='r1_X2', activation=corrnet.activations.leaky_relu)\n",
    "    reconstruct_X2 = r1_X2_l.apply(h_o)    \n"
   ]
  },
  {
   "cell_type": "markdown",
   "metadata": {
    "collapsed": true
   },
   "source": [
    "# Define loss, optimizer and evaluation metric\n",
    "\n",
    "The loss function is defined as:\n",
    "![alt text](https://deeplearnschool.files.wordpress.com/2017/05/eq31.png?w=640)\n",
    "\n",
    "- We use all terms and set lambda=0.02\n",
    "- Adam optimizer with learning_rate=0.001 ensures fast and stable convergence"
   ]
  },
  {
   "cell_type": "code",
   "execution_count": 60,
   "metadata": {
    "collapsed": true
   },
   "outputs": [],
   "source": [
    "with tf.name_scope('loss'):\n",
    "    loss = corrnet.loss.calculate_loss(\n",
    "        [h1_X1_l, h2_X1_l, h1_l],\n",
    "        [h1_X2_l, h2_X2_l, h2_l],\n",
    "        [r1_X1_l], [r1_X2_l],\n",
    "        h_l, [X1, X2],\n",
    "        ['l1', 'l2', 'l3', 'l4'], lamda=lamda)\n",
    "\n",
    "with tf.name_scope('train'):\n",
    "    optimizer = tf.train.AdamOptimizer(learning_rate=learning_rate)\n",
    "    train_op = optimizer.minimize(loss)\n",
    "\n",
    "with tf.name_scope('eval'):\n",
    "    reconstruction_accuracy = loss"
   ]
  },
  {
   "cell_type": "markdown",
   "metadata": {
    "collapsed": true
   },
   "source": [
    "# Train model\n",
    "\n",
    "Use minibatch training with batch_size = 100 for 40 epochs."
   ]
  },
  {
   "cell_type": "code",
   "execution_count": 61,
   "metadata": {
    "scrolled": false
   },
   "outputs": [
    {
     "name": "stdout",
     "output_type": "stream",
     "text": [
      "Epoch: 0\tTrain accuracy: 0.135617911816\tValidation accuracy: 7.59412050247\n",
      "Epoch: 1\tTrain accuracy: 0.105549052358\tValidation accuracy: 6.4984254837\n",
      "Epoch: 2\tTrain accuracy: 0.0904521644115\tValidation accuracy: 5.69390630722\n",
      "Epoch: 3\tTrain accuracy: 0.0826511234045\tValidation accuracy: 5.26948547363\n",
      "Epoch: 4\tTrain accuracy: 0.074488542974\tValidation accuracy: 4.91267156601\n",
      "Epoch: 5\tTrain accuracy: 0.0699452906847\tValidation accuracy: 4.60951948166\n",
      "Epoch: 6\tTrain accuracy: 0.0665562897921\tValidation accuracy: 4.41534280777\n",
      "Epoch: 7\tTrain accuracy: 0.0635370761156\tValidation accuracy: 4.23102045059\n",
      "Epoch: 8\tTrain accuracy: 0.0608576983213\tValidation accuracy: 4.13588523865\n",
      "Epoch: 9\tTrain accuracy: 0.0599887259305\tValidation accuracy: 4.07832813263\n",
      "Epoch: 10\tTrain accuracy: 0.0573939830065\tValidation accuracy: 3.94658398628\n",
      "Epoch: 11\tTrain accuracy: 0.0561895817518\tValidation accuracy: 3.91816234589\n",
      "Epoch: 12\tTrain accuracy: 0.0548528395593\tValidation accuracy: 3.91364789009\n",
      "Epoch: 13\tTrain accuracy: 0.0545355677605\tValidation accuracy: 3.92132592201\n",
      "Epoch: 14\tTrain accuracy: 0.052734836936\tValidation accuracy: 3.87472629547\n",
      "Epoch: 15\tTrain accuracy: 0.0510214418173\tValidation accuracy: 3.83363604546\n",
      "Epoch: 16\tTrain accuracy: 0.0500749647617\tValidation accuracy: 3.7941596508\n",
      "Epoch: 17\tTrain accuracy: 0.0487093403935\tValidation accuracy: 3.78180122375\n",
      "Epoch: 18\tTrain accuracy: 0.0477666184306\tValidation accuracy: 3.72977256775\n",
      "Epoch: 19\tTrain accuracy: 0.0484120175242\tValidation accuracy: 3.81505036354\n",
      "Epoch: 20\tTrain accuracy: 0.0485107451677\tValidation accuracy: 3.81252479553\n",
      "Epoch: 21\tTrain accuracy: 0.0482228398323\tValidation accuracy: 3.81815958023\n",
      "Epoch: 22\tTrain accuracy: 0.0488468296826\tValidation accuracy: 3.85982465744\n",
      "Epoch: 23\tTrain accuracy: 0.0477372035384\tValidation accuracy: 3.79056954384\n",
      "Epoch: 24\tTrain accuracy: 0.0457429625094\tValidation accuracy: 3.64555573463\n",
      "Epoch: 25\tTrain accuracy: 0.0445291809738\tValidation accuracy: 3.59961748123\n",
      "Epoch: 26\tTrain accuracy: 0.0453226342797\tValidation accuracy: 3.66246795654\n",
      "Epoch: 27\tTrain accuracy: 0.0448046848178\tValidation accuracy: 3.63453102112\n",
      "Epoch: 28\tTrain accuracy: 0.0442233420908\tValidation accuracy: 3.62417888641\n",
      "Epoch: 29\tTrain accuracy: 0.0441804602742\tValidation accuracy: 3.59581685066\n",
      "Epoch: 30\tTrain accuracy: 0.041626766324\tValidation accuracy: 3.49308919907\n",
      "Epoch: 31\tTrain accuracy: 0.0405859164894\tValidation accuracy: 3.49122285843\n",
      "Epoch: 32\tTrain accuracy: 0.0402261987329\tValidation accuracy: 3.49294304848\n",
      "Epoch: 33\tTrain accuracy: 0.0403299480677\tValidation accuracy: 3.47547674179\n",
      "Epoch: 34\tTrain accuracy: 0.0404042229056\tValidation accuracy: 3.4726023674\n",
      "Epoch: 35\tTrain accuracy: 0.0411220118403\tValidation accuracy: 3.54630088806\n",
      "Epoch: 36\tTrain accuracy: 0.0400619283319\tValidation accuracy: 3.48062229156\n",
      "Epoch: 37\tTrain accuracy: 0.0944200009108\tValidation accuracy: 6.40904808044\n",
      "Epoch: 38\tTrain accuracy: 0.0400039739907\tValidation accuracy: 3.4560508728\n",
      "Epoch: 39\tTrain accuracy: 0.0399003848433\tValidation accuracy: 3.47544288635\n",
      "Test accuracy: 7.07056808472\n"
     ]
    }
   ],
   "source": [
    "init = tf.global_variables_initializer()\n",
    "saver = tf.train.Saver()\n",
    "\n",
    "with tf.Session() as sess:\n",
    "    init.run()\n",
    "    for epoch in range(n_epochs):\n",
    "        for iteration in range(left_mnist.train.num_examples // batch_size):\n",
    "            X_batch1, _ = left_mnist.train.next_batch(batch_size, shuffle=False)\n",
    "            X_batch2, _ = right_mnist.train.next_batch(batch_size, shuffle=False)\n",
    "            sess.run(train_op, feed_dict={X1: X_batch1, X2: X_batch2})\n",
    "        acc_train = reconstruction_accuracy.eval(feed_dict={X1: X_batch1, X2: X_batch2})\n",
    "        X_val_batch1 = left_mnist.validation.images\n",
    "        X_val_batch2 = right_mnist.validation.images\n",
    "        acc_validation = reconstruction_accuracy.eval(feed_dict={X1: X_val_batch1, X2: X_val_batch2})\n",
    "        print('Epoch: {}\\tTrain accuracy: {}\\tValidation accuracy: {}'.format(epoch, acc_train, acc_validation))\n",
    "\n",
    "    X_test1 = left_mnist.test.images\n",
    "    X_test2 = right_mnist.test.images\n",
    "    rec_left, rec_right = sess.run([reconstruct_X1, reconstruct_X2], feed_dict={X1: X_test1, X2: X_test2})\n",
    "    rec_left_left, rec_left_right = sess.run([reconstruct_X1, reconstruct_X2], feed_dict={X1: X_test1, X2: np.zeros_like(X_test2)})\n",
    "    rec_right_left, rec_right_right = sess.run([reconstruct_X1, reconstruct_X2], feed_dict={X1: np.zeros_like(X_test1), X2: X_test2})\n",
    "\n",
    "    acc_test = reconstruction_accuracy.eval(feed_dict={X1: X_test1, X2: X_test2})\n",
    "    print('Test accuracy: {}'.format(acc_test))\n",
    "    save_path = saver.save(sess, './my_model_final_multi.ckpt')"
   ]
  },
  {
   "cell_type": "markdown",
   "metadata": {},
   "source": [
    "# Visual Evaluation"
   ]
  },
  {
   "cell_type": "markdown",
   "metadata": {},
   "source": [
    "## Original example image"
   ]
  },
  {
   "cell_type": "code",
   "execution_count": 63,
   "metadata": {},
   "outputs": [
    {
     "data": {
      "text/plain": [
       "<matplotlib.image.AxesImage at 0x7efcbaefab50>"
      ]
     },
     "execution_count": 63,
     "metadata": {},
     "output_type": "execute_result"
    },
    {
     "data": {
      "image/png": "[encoded data removed]",
      "text/plain": [
       "<matplotlib.figure.Figure at 0x7efcbc169a50>"
      ]
     },
     "metadata": {},
     "output_type": "display_data"
    }
   ],
   "source": [
    "f, (ax1, ax2) = plt.subplots(1, 2, sharey=True)\n",
    "ax1.imshow(np.reshape(left_mnist.test.images[4], (28,14)))\n",
    "ax1.set_title('The original MNIST left and right halves for an unseen image')\n",
    "ax2.imshow(np.reshape(right_mnist.test.images[4], (28,14)))"
   ]
  },
  {
   "cell_type": "markdown",
   "metadata": {},
   "source": [
    "## Reconstruction when both and right images are provided to the NN"
   ]
  },
  {
   "cell_type": "code",
   "execution_count": 65,
   "metadata": {},
   "outputs": [
    {
     "data": {
      "text/plain": [
       "<matplotlib.image.AxesImage at 0x7efca87f6ed0>"
      ]
     },
     "execution_count": 65,
     "metadata": {},
     "output_type": "execute_result"
    },
    {
     "data": {
      "image/png": "[encoded data removed]",
      "text/plain": [
       "<matplotlib.figure.Figure at 0x7efca8f79ad0>"
      ]
     },
     "metadata": {},
     "output_type": "display_data"
    }
   ],
   "source": [
    "f, (ax1, ax2) = plt.subplots(1, 2, sharey=True)\n",
    "ax1.imshow(np.reshape(rec_left[4], (28,14)))\n",
    "ax1.set_title('Reconstructed left and right image when both left and right halves are given as input')\n",
    "ax2.imshow(np.reshape(rec_right[4], (28,14)))"
   ]
  },
  {
   "cell_type": "markdown",
   "metadata": {},
   "source": [
    "## Self and cross reconstruction when only left image is provided"
   ]
  },
  {
   "cell_type": "code",
   "execution_count": 66,
   "metadata": {},
   "outputs": [
    {
     "data": {
      "text/plain": [
       "<matplotlib.image.AxesImage at 0x7efcb0167810>"
      ]
     },
     "execution_count": 66,
     "metadata": {},
     "output_type": "execute_result"
    },
    {
     "data": {
      "image/png": "[encoded data removed]",
      "text/plain": [
       "<matplotlib.figure.Figure at 0x7efca8bc3ad0>"
      ]
     },
     "metadata": {},
     "output_type": "display_data"
    }
   ],
   "source": [
    "f, (ax1, ax2) = plt.subplots(1, 2, sharey=True)\n",
    "ax1.imshow(np.reshape(rec_left_left[4], (28,14)))\n",
    "ax1.set_title('Reconstructed left and right image when only left half is given as input')\n",
    "ax2.imshow(np.reshape(rec_left_right[4], (28,14)))"
   ]
  },
  {
   "cell_type": "markdown",
   "metadata": {},
   "source": [
    "## Self and cross reconstruction when only right image is provided"
   ]
  },
  {
   "cell_type": "code",
   "execution_count": 67,
   "metadata": {},
   "outputs": [
    {
     "data": {
      "text/plain": [
       "<matplotlib.image.AxesImage at 0x7efcbcb16f90>"
      ]
     },
     "execution_count": 67,
     "metadata": {},
     "output_type": "execute_result"
    },
    {
     "data": {
      "image/png": "[encoded data removed]",
      "text/plain": [
       "<matplotlib.figure.Figure at 0x7efca8796c50>"
      ]
     },
     "metadata": {},
     "output_type": "display_data"
    }
   ],
   "source": [
    "f, (ax1, ax2) = plt.subplots(1, 2, sharey=True)\n",
    "ax1.imshow(np.reshape(rec_right_left[4], (28,14)))\n",
    "ax1.set_title('Reconstructed left and right image when only right half is given as input')\n",
    "ax2.imshow(np.reshape(rec_right_right[4], (28,14)))"
   ]
  }
 ],
 "metadata": {
  "kernelspec": {
   "display_name": "Python 2",
   "language": "python",
   "name": "python2"
  },
  "language_info": {
   "codemirror_mode": {
    "name": "ipython",
    "version": 2
   },
   "file_extension": ".py",
   "mimetype": "text/x-python",
   "name": "python",
   "nbconvert_exporter": "python",
   "pygments_lexer": "ipython2",
   "version": "2.7.12"
  }
 },
 "nbformat": 4,
 "nbformat_minor": 1
}
